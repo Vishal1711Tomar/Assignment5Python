{
 "cells": [
  {
   "cell_type": "code",
   "execution_count": 1,
   "id": "a393be5a-cb79-46b3-becf-f91524518e79",
   "metadata": {},
   "outputs": [
    {
     "name": "stdin",
     "output_type": "stream",
     "text": [
      "Enter Student Name Kabir\n"
     ]
    },
    {
     "name": "stdout",
     "output_type": "stream",
     "text": [
      "Marks of Kabir: 73\n"
     ]
    }
   ],
   "source": [
    "students = {\n",
    "    \"Vishal\": 85,\"Meera\": 92,\"Rohan\": 78,\"Simran\": 88,\"Kabir\": 73,\"Anaya\": 95,\"Yash\": 67,\"Ishita\": 90,\"Dev\": 80,\"Tanya\": 76 }\n",
    "search = input(\"Enter Student Name\")\n",
    "if search in students:\n",
    "    print(f\"Marks of {search}: {students[search]}\")\n",
    "else:\n",
    "    print(f\"Student '{search}' not found in the record.\")"
   ]
  },
  {
   "cell_type": "code",
   "execution_count": 2,
   "id": "892150ae-c41a-404e-a181-9b9f2cea9563",
   "metadata": {},
   "outputs": [
    {
     "name": "stdin",
     "output_type": "stream",
     "text": [
      "Enter Student Name Arun\n"
     ]
    },
    {
     "name": "stdout",
     "output_type": "stream",
     "text": [
      "Student 'Arun' not found in the record.\n"
     ]
    }
   ],
   "source": [
    "students = {\n",
    "    \"Vishal\": 85,\"Meera\": 92,\"Rohan\": 78,\"Simran\": 88,\"Kabir\": 73,\"Anaya\": 95,\"Yash\": 67,\"Ishita\": 90,\"Dev\": 80,\"Tanya\": 76 }\n",
    "search = input(\"Enter Student Name\")\n",
    "if search in students:\n",
    "    print(f\"Marks of {search}: {students[search]}\")\n",
    "else:\n",
    "    print(f\"Student '{search}' not found in the record.\")"
   ]
  },
  {
   "cell_type": "code",
   "execution_count": 4,
   "id": "52492065-5849-4dce-87d8-66dfcb8297bb",
   "metadata": {},
   "outputs": [
    {
     "name": "stdout",
     "output_type": "stream",
     "text": [
      "Original List [1, 2, 3, 4, 5, 6, 7, 8, 9, 10]\n",
      "Extracted  first five Elements List [1, 2, 3, 4, 5]\n",
      "Reversed first five Elements [5, 4, 3, 2, 1]\n",
      "Reverse first five Elemnts without using another varible [5, 4, 3, 2, 1]\n"
     ]
    }
   ],
   "source": [
    "num = [x for x in range(1,11)]\n",
    "\"\"\" This is Learned in List Comprehension Module\"\"\"\n",
    "print(f\"Original List {num}\")\n",
    "num_sl = num[0:5]\n",
    "print(f\"Extracted  first five Elements List {num_sl}\") \n",
    "print(f\"Reversed first five Elements {num_sl[::-1]}\") \n",
    "print(f\"Reverse first five Elemnts without using another varible {num[0:5][::-1]}\")"
   ]
  },
  {
   "cell_type": "code",
   "execution_count": null,
   "id": "ffc4e2ff-7952-4837-9ff3-caf197695938",
   "metadata": {},
   "outputs": [],
   "source": []
  },
  {
   "cell_type": "code",
   "execution_count": null,
   "id": "64d3870b-c52c-4906-9e7d-6d08cbb8ea25",
   "metadata": {},
   "outputs": [],
   "source": []
  }
 ],
 "metadata": {
  "kernelspec": {
   "display_name": "Python [conda env:base] *",
   "language": "python",
   "name": "conda-base-py"
  },
  "language_info": {
   "codemirror_mode": {
    "name": "ipython",
    "version": 3
   },
   "file_extension": ".py",
   "mimetype": "text/x-python",
   "name": "python",
   "nbconvert_exporter": "python",
   "pygments_lexer": "ipython3",
   "version": "3.12.7"
  }
 },
 "nbformat": 4,
 "nbformat_minor": 5
}
